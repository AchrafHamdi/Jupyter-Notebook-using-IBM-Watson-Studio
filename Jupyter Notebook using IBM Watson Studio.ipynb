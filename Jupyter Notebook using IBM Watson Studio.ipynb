{
    "cells": [
        {
            "metadata": {
                "collapsed": true
            },
            "cell_type": "markdown",
            "source": "# My Jupyter Notebook on IBM Watson Studio"
        },
        {
            "metadata": {},
            "cell_type": "markdown",
            "source": "<b> MACHRAF HAMDI </b>   \nFinancial Analysis"
        },
        {
            "metadata": {},
            "cell_type": "markdown",
            "source": "_I am interested in data science because I want to be a Financial Analysis_"
        },
        {
            "metadata": {},
            "cell_type": "markdown",
            "source": "### This simple code will calculate d = x + y + z if x=10 and y=5 and z=12"
        },
        {
            "metadata": {},
            "cell_type": "code",
            "source": "x = 10\ny = 5\nz = 12\nd = x + y + z\nd",
            "execution_count": 16,
            "outputs": [
                {
                    "output_type": "execute_result",
                    "execution_count": 16,
                    "data": {
                        "text/plain": "27"
                    },
                    "metadata": {}
                }
            ]
        },
        {
            "metadata": {},
            "cell_type": "code",
            "source": "# importing modules\nimport urllib.request\nfrom PIL import Image\n\nurllib.request.urlretrieve(\n'https://upload.wikimedia.org/wikipedia/commons/thumb/5/51/IBM_logo.svg/1200px-IBM_logo.svg.png',\n\"gfg.png\")\n\nimg = Image.open(\"gfg.png\")\nimg.show()\n",
            "execution_count": 20,
            "outputs": [
                {
                    "output_type": "display_data",
                    "data": {
                        "text/plain": "<PIL.PngImagePlugin.PngImageFile image mode=P size=1200x481>",
                        "image/png": "[encoded data removed]"
                    },
                    "metadata": {}
                }
            ]
        }
    ],
    "metadata": {
        "kernelspec": {
            "name": "python3",
            "display_name": "Python 3.10",
            "language": "python"
        },
        "language_info": {
            "name": "python",
            "version": "3.10.6",
            "mimetype": "text/x-python",
            "codemirror_mode": {
                "name": "ipython",
                "version": 3
            },
            "pygments_lexer": "ipython3",
            "nbconvert_exporter": "python",
            "file_extension": ".py"
        }
    },
    "nbformat": 4,
    "nbformat_minor": 1
}